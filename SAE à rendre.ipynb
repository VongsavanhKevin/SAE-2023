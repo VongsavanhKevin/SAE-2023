{
 "cells": [
  {
   "cell_type": "markdown",
   "metadata": {
    "deletable": false,
    "editable": false
   },
   "source": [
    "# <center> Santa Claus needs you!</center>\n",
    "<center> SAE 1.01 / 2023 - 24 </center>\n",
    "\n"
   ]
  },
  {
   "cell_type": "markdown",
   "metadata": {
    "deletable": false,
    "editable": false
   },
   "source": [
    "**Attendus**\n",
    "\n",
    "Les attendus de cette SAE sont que vous appreniez à \n",
    "- respecter un cahier des charges ;\n",
    "- écrire un code de qualité : efficace, lisible, documenté et testé sauf quand il s'agit d'affichages, de saisies ou de tirages aléatoires ;\n",
    " - travailler en groupe sur un projet : cette SAE est à faire en **binôme**. Vous devez néanmoins comprendre et connaître la totalité de ce qui est produit par le binôme.\n",
    "\n",
    "\n",
    "**Calendrier**\n",
    "- Le projet est à rendre au plus tard le vendredi **10 novembre** 2023. Les modalités de rendu vous seront précisées par votre enseignant.\n",
    "- Un contrôle de 2h en lien avec le contenu de cette SAE aura lieu le vendredi **10 novembre** 2023.\n",
    "\n",
    "**Evaluation**\n",
    "- Le projet comptera pour 40% de la note de SAE 1.01. <BR>\n",
    "Il sera particulièrement tenu compte de la qualité du code, des **commentaires** et **docstrings**, des fonctions de **tests unitaires** pour les fonctions renvoyant des résultats. <BR><BR>\n",
    "    \n",
    "- Le contrôle compte pour 60% de la note finale."
   ]
  },
  {
   "cell_type": "markdown",
   "metadata": {
    "deletable": false,
    "editable": false
   },
   "source": [
    "## <center> Sujet </center>\n",
    "\n",
    "Le Père Noël se fait vieux, il a besoin d'aider pour organiser sa distribution de cadeaux. Il vous prend à l'essai...\n",
    "\n",
    "L'objectif est de chercher une tournée des villes minimisant la distance parcourue par les rennes du Père Noël."
   ]
  },
  {
   "cell_type": "markdown",
   "metadata": {
    "deletable": false,
    "editable": false
   },
   "source": [
    "On décide de stocker les données sur les villes à visiter dans un tableau `villes` de chaînes de caractères et de flottants contenant successivement une ville (sous forme d'une chaîne de caractères), sa longitude et sa latitude (des flottants) en dégrés décimaux (DD) de sorte que `villes[3*i]` a pour longitude  `villes[3*i+1]` et pour latitude `villes[3*i+2]`.\n",
    "\n",
    "On suppose que chaque ville n'est présente qu'une seule fois dans le tableau.\n",
    "\n",
    "**Exemple** : "
   ]
  },
  {
   "cell_type": "code",
   "execution_count": 1,
   "metadata": {
    "deletable": false,
    "editable": false,
    "scrolled": true
   },
   "outputs": [],
   "source": [
    "villes = [\"Paris\",2.33,48.86, \"Lyon\",4.85,45.75, \n",
    "          \"Marseille\", 5.40,43.30, \"Lille\",3.06,50.63, \n",
    "          \"Strasbourg\",7.75,48.57, \"Rennes\",-1.66,48.11, \n",
    "          \"Clermont-Ferrand\",3.08,45.77, \"Bordeaux\", -0.57, 44.83]"
   ]
  },
  {
   "cell_type": "markdown",
   "metadata": {
    "deletable": false,
    "editable": false
   },
   "source": [
    "Ainsi\n",
    "- Paris a une longitude de 2,33 DD et une latitude de 48,86 DD.\n",
    "- Rennes a une longitude de -1,66 DD et une latitude de 48,11 DD."
   ]
  },
  {
   "cell_type": "markdown",
   "metadata": {
    "deletable": false,
    "editable": false
   },
   "source": [
    "#### Question préliminaire : Représentation des villes par un tableau\n",
    "\n",
    "- Ajouter dans le tableau précédent Toulouse dont la longitude est 1,43 DD et la latitude est 43,60 DD, ainsi que Grenoble dont la longitude est 5,72 DD et la latitude est 45,18 DD."
   ]
  },
  {
   "cell_type": "code",
   "execution_count": 2,
   "metadata": {
    "scrolled": false
   },
   "outputs": [
    {
     "name": "stdout",
     "output_type": "stream",
     "text": [
      "['Paris', 2.33, 48.86, 'Lyon', 4.85, 45.75, 'Marseille', 5.4, 43.3, 'Lille', 3.06, 50.63, 'Strasbourg', 7.75, 48.57, 'Rennes', -1.66, 48.11, 'Clermont-Ferrand', 3.08, 45.77, 'Bordeaux', -0.57, 44.83, 'Toulouse', 1.43, 43.6, 'Grenoble', 5.72, 45.18]\n"
     ]
    }
   ],
   "source": [
    "#-------------------------#\n",
    "#    Écrire le code ici   #\n",
    "#-------------------------#\n",
    " # Ajout des villes et de leurs coordonnées\n",
    "villes.append(\"Toulouse\") \n",
    "villes.append(1.43)\n",
    "villes.append(43.60)\n",
    "villes.append(\"Grenoble\")\n",
    "villes.append(5.72)\n",
    "villes.append(45.18)\n",
    "print(villes)\n"
   ]
  },
  {
   "cell_type": "markdown",
   "metadata": {
    "deletable": false,
    "editable": false
   },
   "source": [
    "#### Question 1 : Nombre de villes à visiter\n",
    "\n",
    "- Étant donné un tableau `villes`, écrire une fonction `nb_villes(villes)` qui retourne le nombre de villes à visiter contenues dans le tableau `villes`. \n",
    "- Ecrire une fonction de tests unitaires permettant de vérifier cette fonction. "
   ]
  },
  {
   "cell_type": "code",
   "execution_count": 3,
   "metadata": {},
   "outputs": [
    {
     "name": "stdout",
     "output_type": "stream",
     "text": [
      "Ok\n"
     ]
    }
   ],
   "source": [
    "def nb_villes(villes):\n",
    "    '''\n",
    "        Cette fonction renvoie le nombre de villes à visiter dans le tableau villes\n",
    "    '''\n",
    "    villes_a_visiter = 0   # Initiation de la somme de retour           \n",
    "    i = 0    # Initialisation de la boucle de while                      \n",
    "    while i < len(villes):\n",
    "        villes_a_visiter += 1\n",
    "        i += 3 # Incrémentation de 3 pour ne compter que le nombres des villes\n",
    "    return villes_a_visiter\n",
    "\n",
    "\n",
    "def test_nb_villes():\n",
    "    \"\"\"\n",
    "    Fonction test unitaire de la fonction 'nb_villes'\n",
    "    \"\"\"\n",
    "    assert nb_villes(villes) == 10, \"Erreur\"\n",
    "    print(\"Ok\")\n",
    "test_nb_villes()"
   ]
  },
  {
   "cell_type": "markdown",
   "metadata": {
    "deletable": false,
    "editable": false
   },
   "source": [
    "#### Question 2 : Tableaux des noms de villes à visiter\n",
    "\n",
    "- Étant donné un tableau `villes`, écrire une fonction `noms_villes(villes)` qui retourne le tableau des noms des villes à visiter contenues dans le tableau `villes`. \n",
    "- Ecrire une fonction de tests unitaires permettant de vérifier cette fonction. "
   ]
  },
  {
   "cell_type": "code",
   "execution_count": 4,
   "metadata": {
    "scrolled": false
   },
   "outputs": [
    {
     "name": "stdout",
     "output_type": "stream",
     "text": [
      "Ok\n"
     ]
    }
   ],
   "source": [
    "#-------------------------#\n",
    "#    Écrire le code ici   #\n",
    "#-------------------------#\n",
    "\n",
    "\n",
    "\n",
    "def noms_villes(villes):\n",
    "    '''\n",
    "        Cette fonction renvoie les villes à visiter\n",
    "    '''\n",
    "    tableau_villes_à_visiter = []  # Initialisation du tableau de retour.\n",
    "    i = 0                          # Initialisation de la boucle. \n",
    "    while i < len(villes):\n",
    "        tableau_villes_à_visiter.append(villes[i]) # Ajout des villes dans le tableau de retour. \n",
    "        i += 3     # i +=3 car on ne veut ajouter que les villes et non leurs coordonnées.\n",
    "    return tableau_villes_à_visiter\n",
    "\n",
    "noms_villes(villes)\n",
    "\n",
    "def test_noms_villes():\n",
    "    \"\"\"\n",
    "    Fonction test unitaire de la fonction 'nom_villes'\n",
    "    \"\"\"\n",
    "    assert noms_villes(villes) == ['Paris','Lyon','Marseille','Lille','Strasbourg','Rennes','Clermont-Ferrand','Bordeaux','Toulouse','Grenoble']\n",
    "    print('Ok')\n",
    "test_noms_villes()"
   ]
  },
  {
   "cell_type": "markdown",
   "metadata": {
    "deletable": false,
    "editable": false
   },
   "source": [
    "#### Question 3 : Distance entre deux villes repérées par leurs longitude et latitude\n",
    "\n",
    "Pour calculer la distance $d$ entre deux villes $V_1$ (de longitude $long1$ et de latitude $lat1$) et $V_2$ (de longitude $long2$ et de latitude $lat2$) à partir de leurs longitude et latitude, on peut utiliser la formule suivante :\n",
    "\n",
    "$d=R*arccos(sin(lat1)*sin(lat2)+cos(lat1)*cos(lat2)*cos(long2-long1))$\n",
    "\n",
    "où le rayon de la terre $R$ vaut 6370.7km et les latitudes et longitudes sont exprimées en radians (en non en degrés décimaux).\n",
    "Cela correspond à la méthode de calcul avec la loi des sinus décrite [ici](http://villemin.gerard.free.fr/aGeograp/Distance.htm) \n",
    "\n",
    "Par exemple, Paris et Marseille sont distantes de 661,86 km.\n",
    "\n",
    "- Ecrire une fonction `distance(long1,lat1,long2,lat2)` qui calcule et retourne la distance entre deux villes $V_1$ (de longitude `long1` et `lat1`) et $V_2$ (de `long2`et `lat2`).\n",
    "\n",
    "**NB** Les fonctions `sin`, `cos` et le nombre `pi` sont définis dans la bibliothèque `math`. La fonction `arcos` est définie dans la bibliothèque `numpy`.\n",
    "\n",
    "Pour **convertir des degrés en radians**, il faut multiplier par $\\pi/180$.\n",
    "\n",
    "\n",
    "- Ecrire une fonction de tests unitaire permettant de vérifier cette fonction."
   ]
  },
  {
   "cell_type": "code",
   "execution_count": 5,
   "metadata": {
    "scrolled": true
   },
   "outputs": [
    {
     "name": "stdout",
     "output_type": "stream",
     "text": [
      "ok\n"
     ]
    }
   ],
   "source": [
    "#-------------------------#\n",
    "#    Écrire le code ici   #\n",
    "#-------------------------#\n",
    "from math import*       # Importation des bibliothèques\n",
    "from numpy import*\n",
    "\n",
    "def distance(long1,lat1,long2,lat2):\n",
    "    \"\"\"\n",
    "    Cette fonction calcule la distance entre deux villes en fonction de leur latitude et de leur longitude\n",
    "    \"\"\"\n",
    "    # Convertion en radians\n",
    "    long1 = long1*pi/180 \n",
    "    long2 = long2*pi/180 \n",
    "    lat1 = lat1*pi/180\n",
    "    lat2 = lat2*pi/180\n",
    "    # Retourne la distance entre les deux villes avecc les valeurs en radiants \n",
    "    return 6370.7*arccos(sin(lat1)*sin(lat2)+cos(lat1)*cos(lat2)*cos(long2-long1))\n",
    "distance(2.33,48.86,5.4, 43.3)\n",
    "\n",
    "def test_distance():\n",
    "    \"\"\"\n",
    "    Fonction test unitaire de la fonction distance au centième près\n",
    "    \"\"\"\n",
    "    assert math.isclose(distance(2.33,48.86,5.4,43.3), 661.86, rel_tol=1e-2)\n",
    "    assert math.isclose(distance(5.4, 43.3, 3.06, 50.63),834.04, rel_tol=1e-2)\n",
    "    assert math.isclose(distance(1.43,43.6,5.72,45.18),383.40, rel_tol=1e-2 )\n",
    "    assert math.isclose(distance(-1.66, 48.11,3.08, 45.77),443.91, rel_tol=1e-2)\n",
    "    assert math.isclose(distance(-0.57, 44.83,2.33, 48.86),499.33, rel_tol=1e-2)\n",
    "    print('ok')\n",
    "distance(-0.57, 44.83, 2.33, 48.86)\n",
    "test_distance()"
   ]
  },
  {
   "cell_type": "markdown",
   "metadata": {
    "deletable": false,
    "editable": false
   },
   "source": [
    "#### Question 4 : Coordonnées d'une ville dans le tableau `villes`\n",
    "\n",
    "a) Ecrire une fonction `indexCity(ville, villes)` qui retourne la position (l'indice) de la `ville` passée en paramètre dans le tableau `villes`. Elle retournera `-1` si la ville passée en paramètre n'est pas dans le tableau. Cette information pourra être utilisée dans la suite pour trouver la longitude et la latitude d'une ville donnée par son nom.\n",
    "\n",
    "Par exemple, \n",
    "- l'instruction `indexCity(\"Paris\", villes)` retournera `0`,\n",
    "- l'instruction `indexCity(\"Clermont-Ferrand\",villes)` retournera  `18`,\n",
    "- et l'instruction `indexCity(\"Villetaneuse\",villes)` retournera  `-1`.\n",
    "\n",
    "b) Ecrire une fonction de tests unitaire permettant de vérifier cette fonction."
   ]
  },
  {
   "cell_type": "code",
   "execution_count": 6,
   "metadata": {
    "scrolled": true
   },
   "outputs": [],
   "source": [
    "#-------------------------#\n",
    "#    Écrire le code ici   #\n",
    "#-------------------------#\n",
    "\n",
    "def indexCity(ville,villes):\n",
    "    \"\"\"\n",
    "    Cette fonction retourne la position de la ville passée en paramètre dans le tableau villes\n",
    "    \"\"\"\n",
    "    i=0 # Initialisation de la boucle while\n",
    "    while i <len(villes): \n",
    "        if ville == villes[i]: # Tant que la ville passée en paramètre ne correspond pas à lindice i alors on avancera dans le tableau \"villes\" \n",
    "            return i\n",
    "        i+=1\n",
    "    return -1 # Si la ville passée en paramètre n'appartient pas au tableau \"villes\" on retourne -1\n",
    "    \n",
    "\n",
    "def test_indexCity():\n",
    "    \"\"\"\n",
    "    Fonction test unitaire de la fonction indexCity\n",
    "    \"\"\"\n",
    "    assert indexCity(\"Paris\",villes)== 0\n",
    "    assert indexCity(\"Clermont-Ferrand\",villes)== 18\n",
    "    assert indexCity(\"Villetaneuse\",villes)== -1\n",
    "    assert indexCity(\"Bordeaux\",villes)== 21\n",
    "    assert indexCity(\"Lyon\",villes)== 3\n",
    "    print(\"Ok\")\n"
   ]
  },
  {
   "cell_type": "markdown",
   "metadata": {
    "deletable": false,
    "editable": false
   },
   "source": [
    "#### Question 5 : Distance entre deux villes données par leurs noms\n",
    "\n",
    "- Ecrire une fonction `distance_noms(nom1,nom2, villes)` qui calcule et retourne la distance entre deux villes $V_1$ et $V_2$ appelées `nom1` et `nom2` dans le tableau `villes`. La fonction retournera `-1` si une de ces villes n'est pas dans le tableau.\n",
    "- Ecrire une fonction de tests unitaires permettant de vérifier cette fonction."
   ]
  },
  {
   "cell_type": "code",
   "execution_count": 12,
   "metadata": {
    "scrolled": true
   },
   "outputs": [
    {
     "name": "stdout",
     "output_type": "stream",
     "text": [
      "ok\n"
     ]
    }
   ],
   "source": [
    "#-------------------------#\n",
    "#    Écrire le code ici   #\n",
    "#-------------------------#\n",
    "\n",
    "def distance_noms(nom1,nom2,villes):\n",
    "    \"\"\"\n",
    "    Cette fonction calcule la distance entre deux villes en prenant en paramètre les noms des deux villes\n",
    "    \"\"\"\n",
    "    # On crée deux variables correspondant à la position de chacune des villes situé dans le tableau \"villes\"\n",
    "    index_ville1 = indexCity(nom1,villes) \n",
    "    index_ville2 = indexCity(nom2,villes) \n",
    "    if index_ville1 == -1 or index_ville2 == -1: # Si l'une des deux villes en paramètre n'appartiennent pas au tableau \"villes\" la fonction retourne -1\n",
    "        return -1\n",
    "    return distance(villes[index_ville1+1],villes[index_ville1+2],villes[index_ville2+1],villes[index_ville2+2])\n",
    "  \n",
    "\n",
    "  \n",
    "def test_distance_noms():\n",
    "    \"\"\"\n",
    "    Fonction test unitaire de la fonction distance_noms\n",
    "    \"\"\"\n",
    "    # Comparaison a l'aide math.isclose() au centième près.\n",
    "    assert math.isclose(distance_noms('Paris','Marseille',villes),661.86, rel_tol=1e-2) \n",
    "    assert math.isclose(distance_noms('Lyon','Marseille',villes),275.87, rel_tol=1e-2)\n",
    "    assert math.isclose(distance_noms('Lyon','Paris',villes),394.50, rel_tol=1e-2)\n",
    "    assert math.isclose(distance_noms('Lyon','Rennes',villes),559.37, rel_tol=1e-2)\n",
    "    assert math.isclose(distance_noms('Bordeaux','Rennes',villes),374.12, rel_tol=1e-2)\n",
    "    print('ok')\n",
    "    \n",
    "test_distance_noms()\n"
   ]
  },
  {
   "cell_type": "markdown",
   "metadata": {
    "deletable": false,
    "editable": false
   },
   "source": [
    "#### Question 6 :  Lecture des villes d'une tournée à partir d'un fichier\n",
    "On suppose que les données sur les villes où doit se rendre le Père Noël réseau sont stockées dans un fichier CSV de la manière suivante :\n",
    "```\n",
    "ville1;longitude1;latitude1\n",
    "ville2;longitude2;latitude2\n",
    "ville3;longitude3;latitude3\n",
    "...\n",
    "```\n",
    "Autrement dit, chaque ligne du fichier contient le nom d'une ville, sa longitude et sa latitude en degrés décimaux, ces données étant séparées par des `';'`. Ces villes sont celles que le Père Noël doit desservir\n",
    "\n",
    "**NB** : Six fichiers CSV de ce type sont fournis dans le répertoire `files/`, il s'agit des fichiers `africa.csv`, `asia.csv`,`europe.csv`, `north-america`, `oceania.csv` and `south-america.csv`. \n",
    "Il est recommandé d'en fabriquer d'autres. \n",
    "\n",
    "- Ecrire une fonction `lecture_villes(path)` prenant en paramètre un chemin vers un tel fichier CSV et retournant un tableau contenant les informations sur les villes à visiter."
   ]
  },
  {
   "cell_type": "code",
   "execution_count": 8,
   "metadata": {
    "scrolled": false
   },
   "outputs": [
    {
     "data": {
      "text/plain": [
       "['Kabul;69.17;34.53\\n',\n",
       " 'Yerevan;44.51;40.18\\n',\n",
       " 'Baku;49.89;40.38\\n',\n",
       " 'Manama;50.58;26.22\\n',\n",
       " 'Dhaka;90.41;23.71\\n',\n",
       " 'Thimphu;89.64;27.47\\n',\n",
       " 'Diego Garcia;7.24;72.46\\n',\n",
       " 'Bandar Seri Begawan;114.95;4.94\\n',\n",
       " 'Phnom Penh;104.92;11.56\\n',\n",
       " 'Beijing;116.4;39.91\\n',\n",
       " 'The Settlement;105.68;-10.42\\n',\n",
       " 'West Island;96.82;-12.16\\n',\n",
       " 'Tbilisi;44.83;41.69\\n',\n",
       " 'Hong Kong;114.16;22.29\\n',\n",
       " 'New Delhi;77.22;28.64\\n',\n",
       " 'Jakarta;106.85;-6.21\\n',\n",
       " 'Tehran;51.42;35.69\\n',\n",
       " 'Baghdad;44.4;33.34\\n',\n",
       " 'Jerusalem;31.77;35.23\\n',\n",
       " 'Edo;139.69;35.69\\n',\n",
       " 'Amman;35.95;31.96\\n',\n",
       " 'Astana;71.45;51.18\\n',\n",
       " 'Kuwait City;47.98;29.37\\n',\n",
       " 'Bishkek;74.59;42.87\\n',\n",
       " 'Vientiane;102.6;17.97\\n',\n",
       " 'Beirut;35.49;33.89\\n',\n",
       " 'Macao;113.55;22.2\\n',\n",
       " 'Kuala Lumpur;101.69;3.14\\n',\n",
       " 'MalÃ©;73.51;4.17\\n',\n",
       " 'Ulan Bator;106.88;47.91\\n',\n",
       " 'Nay Pyi Taw;96.13;19.75\\n',\n",
       " 'Kathmandu;85.32;27.7\\n',\n",
       " 'Pyongyang;125.75;39.03\\n',\n",
       " 'Muscat;58.59;23.61\\n',\n",
       " 'Islamabad;73.04;33.72\\n',\n",
       " 'East Jerusalem;31.77;35.23\\n',\n",
       " 'Manila;120.98;14.6\\n',\n",
       " 'Doha;51.52;25.28\\n',\n",
       " 'Riyadh;46.72;24.69\\n',\n",
       " 'Singapore;103.85;1.29\\n',\n",
       " 'Seoul;126.98;37.57\\n',\n",
       " 'Colombo;79.85;6.93\\n',\n",
       " 'Damascus;36.29;33.51\\n',\n",
       " 'Taipei;121.53;25.05\\n',\n",
       " 'Dushanbe;68.78;38.54\\n',\n",
       " 'Bangkok;100.5;13.75\\n',\n",
       " 'Ankara;32.85;39.92\\n',\n",
       " 'Ashkhabad;58.38;37.95\\n',\n",
       " 'Abu Dhabi;54.37;24.47\\n',\n",
       " 'Tashkent;69.22;41.26\\n',\n",
       " 'Hanoi;105.84;21.02\\n',\n",
       " 'Sanaa;44.21;15.35\\n']"
      ]
     },
     "execution_count": 8,
     "metadata": {},
     "output_type": "execute_result"
    }
   ],
   "source": [
    "#-------------------------#\n",
    "#    Écrire le code ici   #\n",
    "#-------------------------#\n",
    "\n",
    "def lecture_villes(path):\n",
    "    \"\"\"\n",
    "    Cette fonction prend en paramètre un chemin vers un tel fichier CSV et retourne un tableau contenant les informations sur les villes à visiter.\n",
    "    \"\"\"\n",
    "    f = open(path,'r') # Ouverture du fichier en lecture\n",
    "    tab = f.readlines() # Lecture de tout le fichier, et stockage dans un tableau\n",
    "    f.close() # Fermeture du fichier\n",
    "    return tab\n",
    "    \n",
    "lecture_villes('files/asia.csv')\n"
   ]
  },
  {
   "cell_type": "markdown",
   "metadata": {
    "deletable": false,
    "editable": false
   },
   "source": [
    "#### Question 7 : Longueur d'une tournée\n",
    "\n",
    "On considère que le Père Noël peut partir de n'importe laquelle des villes qu'il doit visiter et qu'il doit revenir à son point de départ à la fin de la tournée. Lors de sa tournée, il doit visiter chacune des villes dont les informations sont contenues dans le tableau `villes` une fois et une seule. \n",
    "\n",
    "On représente une tournée possible sous la forme d'un tableau `tournee` contenant le nom des villes dans l'ordre où le Père Noël les visitera sans oublier de revenir à la ville dont il est parti. \n",
    "\n",
    "L'objectif est de calculer la longueur d'une tournée. \n",
    "\n",
    "- Ecrire une fonction `long_tour(villes, tournee)` qui prend en paramètres le tableau `villes` contenant les informations sur les villes à visiter et le tableau `tournee` indiquant l'ordre dans lequel les villes sont visitées. La fonction retourne la longueur de la tournée correspondante.\n",
    "\n",
    "- Ecrire une fonction de tests unitaires permettant de vérifier cette fonction."
   ]
  },
  {
   "cell_type": "code",
   "execution_count": 9,
   "metadata": {},
   "outputs": [
    {
     "name": "stdout",
     "output_type": "stream",
     "text": [
      "Ok\n"
     ]
    }
   ],
   "source": [
    "#-------------------------#\n",
    "#    Écrire le code ici   #\n",
    "#-------------------------#\n",
    " #Importation de la bibliothèque math\n",
    "from math import*\n",
    "\n",
    "tournee = ['Paris','Lyon','Marseille','Lille','Strasbourg','Rennes','Clermont-Ferrand','Bordeaux','Toulouse','Grenoble']\n",
    "\n",
    "\n",
    "def long_tour(villes,tournee):\n",
    "    \"\"\"\n",
    "    Cette fonction retourne la distance de la tournee du tableau 'tournee'\n",
    "    \"\"\"\n",
    "    i = 0 #Initiation de la boucle \n",
    "    distance_totale = 0 #Initiation de la somme de retour\n",
    "    while i < len(tournee)-1:\n",
    "        distance_totale += distance_noms(tournee[i], tournee[i+1], villes) # Addition des distances parcourues\n",
    "        i += 1        \n",
    "    distance_totale += distance_noms(tournee[0],tournee[9],villes) #Ajout de la distance entre la ville de départ et celle de la fin\n",
    "    return distance_totale\n",
    "\n",
    "\n",
    "def test_long_tour():\n",
    "    \"\"\"\n",
    "    Fonction test unitaire de la fonction long_tour(villes,tournee) au centième près\n",
    "    \"\"\"\n",
    "    tournee = ['Paris','Lyon','Marseille','Lille','Strasbourg','Rennes','Clermont-Ferrand','Bordeaux','Toulouse','Grenoble']\n",
    "    assert math.isclose(long_tour(villes,tournee),4433.83,rel_tol=1e-2)\n",
    "    tournee = ['Bordeaux','Lyon','Marseille','Lille','Strasbourg','Rennes','Clermont-Ferrand','Paris','Toulouse','Grenoble']\n",
    "    assert math.isclose(long_tour(villes,tournee),4911.36,rel_tol=1e-2)\n",
    "    tournee = ['Bordeaux','Strasbourg','Marseille','Lille','Lyon','Rennes','Clermont-Ferrand','Paris','Toulouse','Grenoble']\n",
    "    assert math.isclose(long_tour(villes,tournee),5583.63,rel_tol=1e-2)\n",
    "    tournee = ['Bordeaux','Strasbourg','Grenoble','Lille','Lyon','Rennes','Clermont-Ferrand','Paris','Toulouse','Marseille']\n",
    "    assert math.isclose(long_tour(villes,tournee),5130.04,rel_tol=1e-2)\n",
    "    tournee = ['Bordeaux','Strasbourg','Grenoble','Lille','Lyon','Toulouse','Clermont-Ferrand','Paris','Rennes','Marseille']\n",
    "    assert math.isclose(long_tour(villes,tournee),4921.67,rel_tol=1e-2)\n",
    "    print('Ok')\n",
    "    \n",
    "test_long_tour()\n",
    "\n",
    "   \n"
   ]
  },
  {
   "cell_type": "markdown",
   "metadata": {
    "deletable": false,
    "editable": false
   },
   "source": [
    "#### Question 8 : Recherche d'une plus courte tournée \n",
    "\n",
    "Pour améliorer la longueur de la tournée, on peut essayer de changer l'ordre des villes aléatoirement. Pour une tournée donnée par un tableau `tournee` cela peut se faire avec la fonction `shuffle` de la bibliothèque `random` qui mélange aléatoirement les villes qui sont dans le tableau `tournee`, grâce à l'instruction  `shuffle(tournee)`, et ne retourne rien.\n",
    "\n",
    "- Utiliser cette fonction pour écrire un programme qui cherche une tournée plus courte à proposer au Père Noël. \n",
    "- Comment la solution s'améliore-t-elle en fonction de nombre de tentatives de mélange ? "
   ]
  },
  {
   "cell_type": "code",
   "execution_count": 10,
   "metadata": {},
   "outputs": [
    {
     "name": "stdout",
     "output_type": "stream",
     "text": [
      "3439.330300464437\n"
     ]
    }
   ],
   "source": [
    "import random   # Importation de la bibliothèque random\n",
    "\n",
    "tournee = ['Paris','Lyon','Marseille','Lille','Strasbourg','Rennes','Clermont-Ferrand','Bordeaux','Toulouse','Grenoble']\n",
    "\n",
    "y = long_tour(villes,tournee)       # Stockage du résultat avec le tableau tournee initial\n",
    "i = 0                               # Initialisation de la boucle \n",
    "while i < 1000 :\n",
    "    random.shuffle(tournee)         # Mélange aléatoire du tableau \"tournee\"\n",
    "    res = long_tour(villes,tournee)\n",
    "    if res < y :                    \n",
    "        y = res                     # Garde le résultat le plus petit\n",
    "    i+=1 \n",
    "print(y)\n",
    "#----------------------#\n",
    "#      Réponse !!!     #\n",
    "#----------------------#\n",
    "\n",
    "# Plus il y a de tentatives de mélange plus il y a de chance de trouver une tournée plus courte à proposer au Père Noël"
   ]
  },
  {
   "cell_type": "markdown",
   "metadata": {},
   "source": [
    "#### Question Bonus (facultative) : Visualisation de la tournée proposée au Père Noël \n",
    "\n",
    "Pour faciliter le travail du Père Noël, vous décidez de lui fournir une carte où est représentée la tournée sélectionnée. \n",
    "\n",
    "Pour cela, on peut (mais ce ne n'est qu'une suggestion) utiliser la bibliothèque [`folium`](https://python-visualization.github.io/folium/latest/getting_started.html). Vous pouvez également utiliser tout autre bibliothèque de votre choix.\n",
    "\n",
    "- Ecrire un programme permettant la visualisation de la tournée proposée au Père Noël"
   ]
  },
  {
   "cell_type": "code",
   "execution_count": 11,
   "metadata": {
    "scrolled": true
   },
   "outputs": [],
   "source": [
    "#-------------------------#\n",
    "#    Écrire le code ici   #\n",
    "#-------------------------#\n",
    "\n",
    "\n",
    "\n",
    "\n",
    "\n"
   ]
  },
  {
   "cell_type": "code",
   "execution_count": null,
   "metadata": {},
   "outputs": [],
   "source": []
  }
 ],
 "metadata": {
  "kernelspec": {
   "display_name": "Python 3 (ipykernel)",
   "language": "python",
   "name": "python3"
  },
  "language_info": {
   "codemirror_mode": {
    "name": "ipython",
    "version": 3
   },
   "file_extension": ".py",
   "mimetype": "text/x-python",
   "name": "python",
   "nbconvert_exporter": "python",
   "pygments_lexer": "ipython3",
   "version": "3.11.4"
  },
  "latex_envs": {
   "LaTeX_envs_menu_present": true,
   "autoclose": false,
   "autocomplete": true,
   "bibliofile": "biblio.bib",
   "cite_by": "apalike",
   "current_citInitial": 1,
   "eqLabelWithNumbers": true,
   "eqNumInitial": 1,
   "hotkeys": {
    "equation": "Ctrl-E",
    "itemize": "Ctrl-I"
   },
   "labels_anchors": false,
   "latex_user_defs": false,
   "report_style_numbering": false,
   "user_envs_cfg": false
  }
 },
 "nbformat": 4,
 "nbformat_minor": 2
}
